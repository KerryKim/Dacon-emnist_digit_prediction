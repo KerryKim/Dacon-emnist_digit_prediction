{
 "cells": [
  {
   "cell_type": "code",
   "execution_count": 1,
   "metadata": {},
   "outputs": [
    {
     "name": "stdout",
     "output_type": "stream",
     "text": [
      "learning rate: 1.0000e-02\n",
      "batch size: 8\n",
      "number of epoch: 150\n",
      "data dir: ./datasets\n",
      "ckpt dir: ./checkpoint\n",
      "log dir: ./log\n",
      "result dir: ./result\n",
      "train/test_mode: train\n",
      "Traceback (most recent call last):\n",
      "  File \"./train.py\", line 164, in <module>\n",
      "    for batch, data in enumerate(loader_train, 1):\n",
      "  File \"/home/kerrykim/anaconda3/envs/cuda_python_3.7/lib/python3.7/site-packages/torch/utils/data/dataloader.py\", line 363, in __next__\n",
      "    data = self._next_data()\n",
      "  File \"/home/kerrykim/anaconda3/envs/cuda_python_3.7/lib/python3.7/site-packages/torch/utils/data/dataloader.py\", line 989, in _next_data\n",
      "    return self._process_data(data)\n",
      "  File \"/home/kerrykim/anaconda3/envs/cuda_python_3.7/lib/python3.7/site-packages/torch/utils/data/dataloader.py\", line 1014, in _process_data\n",
      "    data.reraise()\n",
      "  File \"/home/kerrykim/anaconda3/envs/cuda_python_3.7/lib/python3.7/site-packages/torch/_utils.py\", line 395, in reraise\n",
      "    raise self.exc_type(msg)\n",
      "TypeError: Caught TypeError in DataLoader worker process 0.\n",
      "Original Traceback (most recent call last):\n",
      "  File \"/home/kerrykim/anaconda3/envs/cuda_python_3.7/lib/python3.7/site-packages/torch/utils/data/_utils/worker.py\", line 185, in _worker_loop\n",
      "    data = fetcher.fetch(index)\n",
      "  File \"/home/kerrykim/anaconda3/envs/cuda_python_3.7/lib/python3.7/site-packages/torch/utils/data/_utils/fetch.py\", line 44, in fetch\n",
      "    data = [self.dataset[idx] for idx in possibly_batched_index]\n",
      "  File \"/home/kerrykim/anaconda3/envs/cuda_python_3.7/lib/python3.7/site-packages/torch/utils/data/_utils/fetch.py\", line 44, in <listcomp>\n",
      "    data = [self.dataset[idx] for idx in possibly_batched_index]\n",
      "  File \"/home/kerrykim/jupyter_notebook/4.emnist/dataset.py\", line 64, in __getitem__\n",
      "    data = self.transform(data)\n",
      "  File \"/home/kerrykim/anaconda3/envs/cuda_python_3.7/lib/python3.7/site-packages/torchvision/transforms/transforms.py\", line 61, in __call__\n",
      "    img = t(img)\n",
      "  File \"/home/kerrykim/anaconda3/envs/cuda_python_3.7/lib/python3.7/site-packages/torchvision/transforms/transforms.py\", line 1076, in __call__\n",
      "    return F.rotate(img, angle, self.resample, self.expand, self.center, self.fill)\n",
      "  File \"/home/kerrykim/anaconda3/envs/cuda_python_3.7/lib/python3.7/site-packages/torchvision/transforms/functional.py\", line 841, in rotate\n",
      "    raise TypeError('img should be PIL Image. Got {}'.format(type(img)))\n",
      "TypeError: img should be PIL Image. Got <class 'dict'>\n",
      "\n"
     ]
    }
   ],
   "source": [
    "!python3 './train.py' \\\n",
    "--lr 1e-2 --batch_size 8 --num_epoch 150 \\\n",
    "--data_dir \"./datasets\" \\\n",
    "--ckpt_dir \"./checkpoint\" \\\n",
    "--log_dir \"./log\" \\\n",
    "--result_dir \"./result\" \\\n",
    "--train/test_mode \"train\" \\\n",
    "--train_continue \"off\""
   ]
  },
  {
   "cell_type": "code",
   "execution_count": null,
   "metadata": {},
   "outputs": [],
   "source": []
  }
 ],
 "metadata": {
  "kernelspec": {
   "display_name": "Python [conda env:cuda_python_3.7]",
   "language": "python",
   "name": "conda-env-cuda_python_3.7-py"
  },
  "language_info": {
   "codemirror_mode": {
    "name": "ipython",
    "version": 3
   },
   "file_extension": ".py",
   "mimetype": "text/x-python",
   "name": "python",
   "nbconvert_exporter": "python",
   "pygments_lexer": "ipython3",
   "version": "3.7.7"
  }
 },
 "nbformat": 4,
 "nbformat_minor": 4
}
